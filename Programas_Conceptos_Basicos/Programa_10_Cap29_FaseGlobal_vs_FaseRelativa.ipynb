{
  "nbformat": 4,
  "nbformat_minor": 0,
  "metadata": {
    "colab": {
      "provenance": []
    },
    "kernelspec": {
      "name": "python3",
      "display_name": "Python 3"
    },
    "language_info": {
      "name": "python"
    }
  },
  "cells": [
    {
      "cell_type": "code",
      "execution_count": null,
      "metadata": {
        "id": "NrLftP9h3dF9"
      },
      "outputs": [],
      "source": [
        "pip install qiskit"
      ]
    },
    {
      "cell_type": "code",
      "source": [
        "pip install qiskit-aer"
      ],
      "metadata": {
        "id": "HUFz8DhE3iut"
      },
      "execution_count": null,
      "outputs": []
    },
    {
      "cell_type": "markdown",
      "source": [
        "# Ejemplos de fase global vs fase relativa en un qubit con Qiskit.\n",
        "\n",
        "Este script ilustra:\n",
        "1. Que la fase global no altera los resultados de medición.\n",
        "2. Que la fase relativa sí altera la probabilidad de obtener 0 o 1.\n",
        "3. Un ejemplo con interferencia (usando fase relativa) que demuestra diferencias en la medición.\n"
      ],
      "metadata": {
        "id": "wr7wKKUd3rZ7"
      }
    },
    {
      "cell_type": "code",
      "source": [
        "import numpy as np\n",
        "from qiskit import QuantumCircuit, transpile\n",
        "from qiskit_aer import AerSimulator\n",
        "from qiskit.quantum_info import Statevector"
      ],
      "metadata": {
        "id": "J_5XMOKf3k3q"
      },
      "execution_count": 4,
      "outputs": []
    },
    {
      "cell_type": "code",
      "source": [
        "def example_1_global_phase():\n",
        "    \"\"\"\n",
        "    Ejemplo 1:\n",
        "    Comparamos |0> con e^{i*phi} |0>.\n",
        "    - La fase global (phi) NO altera los resultados de medición.\n",
        "    \"\"\"\n",
        "    print(\"=== Ejemplo 1: Fase Global ===\")\n",
        "\n",
        "    # Creamos dos circuitos simples\n",
        "    qc1 = QuantumCircuit(1)  # Estado |0>\n",
        "\n",
        "    qc2 = QuantumCircuit(1)  # Estado e^{i*phi}|0>\n",
        "    # Asignamos una fase global al circuito (por ejemplo, pi/4)\n",
        "    phi = np.pi/4\n",
        "    qc2.global_phase = phi\n",
        "\n",
        "    # Usamos Statevector para ver el estado final sin medición\n",
        "    sv1 = Statevector.from_label(\"0\").evolve(qc1)\n",
        "    sv2 = Statevector.from_label(\"0\").evolve(qc2)\n",
        "\n",
        "    print(\"Estado de |0>:\", sv1)\n",
        "    print(f\"Estado de e^(i*{phi})|0>:\", sv2)\n",
        "    print(\"Observa que la diferencia es solo una fase global.\\n\")\n",
        "\n",
        "    # Ahora añadimos medición para comprobar que la distribución es la misma\n",
        "    qc1_m = qc1.copy()\n",
        "    qc1_m.measure_all()\n",
        "\n",
        "    qc2_m = qc2.copy()\n",
        "    qc2_m.measure_all()\n",
        "\n",
        "    # Simulador para medir\n",
        "    simulator = AerSimulator()\n",
        "    shots = 1024\n",
        "\n",
        "    qc1_m_t = transpile(qc1_m, simulator)\n",
        "    qc2_m_t = transpile(qc2_m, simulator)\n",
        "\n",
        "    result1 = simulator.run(qc1_m_t, shots=shots).result()\n",
        "    result2 = simulator.run(qc2_m_t, shots=shots).result()\n",
        "\n",
        "    counts1 = result1.get_counts(qc1_m_t)\n",
        "    counts2 = result2.get_counts(qc2_m_t)\n",
        "\n",
        "    print(\"Resultados de medición para |0>:\", counts1)\n",
        "    print(f\"Resultados de medición para e^(i*{phi})|0>:\", counts2)\n",
        "    print(\"La distribución de medición es idéntica, evidenciando que la fase global no afecta.\\n\\n\")"
      ],
      "metadata": {
        "id": "1ejijb2y4T53"
      },
      "execution_count": 12,
      "outputs": []
    },
    {
      "cell_type": "code",
      "source": [
        "def example_2_relative_phase():\n",
        "    \"\"\"\n",
        "    Ejemplo 2:\n",
        "    Comparamos |+> = (|0> + |1>) / sqrt(2)  con  |-> = (|0> - |1>) / sqrt(2).\n",
        "    - Son estados con distinta fase relativa (±).\n",
        "    - Al medir en la base Z, ambos tienen 50% de probabilidad de |0> y 50% de |1>.\n",
        "    - Al medir en la base X, la diferencia se hace evidente.\n",
        "    \"\"\"\n",
        "    print(\"=== Ejemplo 2: Fase Relativa (+ vs -) ===\")\n",
        "\n",
        "    # Circuito para |+>\n",
        "    qc_plus = QuantumCircuit(1)\n",
        "    qc_plus.h(0)  # H|0> = (|0> + |1>) / sqrt(2)\n",
        "\n",
        "    # Circuito para |->\n",
        "    qc_minus = QuantumCircuit(1)\n",
        "    qc_minus.x(0)  # pasamos a |1>\n",
        "    qc_minus.h(0)  # H|1> = (|0> - |1>) / sqrt(2)\n",
        "\n",
        "    # Obtenemos los statevectors sin medición\n",
        "    sv_plus = Statevector.from_label(\"0\").evolve(qc_plus)\n",
        "    sv_minus = Statevector.from_label(\"0\").evolve(qc_minus)\n",
        "\n",
        "    print(\"|+> statevector:\", sv_plus)\n",
        "    print(\"|-> statevector:\", sv_minus)\n",
        "\n",
        "    # Ahora medimos en la base Z\n",
        "    qc_plus_z = qc_plus.copy()\n",
        "    qc_plus_z.measure_all()\n",
        "    qc_minus_z = qc_minus.copy()\n",
        "    qc_minus_z.measure_all()\n",
        "\n",
        "    simulator = AerSimulator()\n",
        "    shots = 1024\n",
        "\n",
        "    qc_plus_z_t = transpile(qc_plus_z, simulator)\n",
        "    qc_minus_z_t = transpile(qc_minus_z, simulator)\n",
        "\n",
        "    counts_plus_z = simulator.run(qc_plus_z_t, shots=shots).result().get_counts(qc_plus_z_t)\n",
        "    counts_minus_z = simulator.run(qc_minus_z_t, shots=shots).result().get_counts(qc_minus_z_t)\n",
        "\n",
        "    print(\"\\nMedición en la base Z (estados |0>, |1>):\")\n",
        "    print(\"Counts |+>:\", counts_plus_z)\n",
        "    print(\"Counts |->:\", counts_minus_z)\n",
        "\n",
        "    # Medición en la base X -> aplicar H antes de medir en Z\n",
        "    qc_plus_x = qc_plus.copy()\n",
        "    qc_plus_x.h(0)\n",
        "    qc_plus_x.measure_all()\n",
        "\n",
        "    qc_minus_x = qc_minus.copy()\n",
        "    qc_minus_x.h(0)\n",
        "    qc_minus_x.measure_all()\n",
        "\n",
        "    qc_plus_x_t = transpile(qc_plus_x, simulator)\n",
        "    qc_minus_x_t = transpile(qc_minus_x, simulator)\n",
        "\n",
        "    counts_plus_x = simulator.run(qc_plus_x_t, shots=shots).result().get_counts(qc_plus_x_t)\n",
        "    counts_minus_x = simulator.run(qc_minus_x_t, shots=shots).result().get_counts(qc_minus_x_t)\n",
        "\n",
        "    print(\"\\nMedición en la base X (estados |+>, |->):\")\n",
        "    print(\"Counts |+> (en base X):\", counts_plus_x)\n",
        "    print(\"Counts |-> (en base X):\", counts_minus_x)\n",
        "\n",
        "    print(\"\\nLa fase relativa (+ vs -) no influye en la medición Z (ambos 50-50), \"\n",
        "          \"pero sí cambia la medición en la base X.\\n\\n\")"
      ],
      "metadata": {
        "id": "AA2e-MeA4W02"
      },
      "execution_count": null,
      "outputs": []
    },
    {
      "cell_type": "code",
      "source": [
        "def example_3_interference():\n",
        "    \"\"\"\n",
        "    Ejemplo 3:\n",
        "    Ilustramos cómo la fase relativa genera interferencia.\n",
        "    - Preparamos un qubit en (|0> + e^{i*phi}|1>) / sqrt(2).\n",
        "    - Luego aplicamos otra H y medimos.\n",
        "    - Observamos cómo cambian los resultados según la fase relativa.\n",
        "    \"\"\"\n",
        "    print(\"=== Ejemplo 3: Interferencia por Fase Relativa ===\")\n",
        "\n",
        "    simulator = AerSimulator()\n",
        "    shots = 1024\n",
        "\n",
        "    for phi in [0, np.pi/2, np.pi, 3*np.pi/2]:\n",
        "        qc = QuantumCircuit(1)\n",
        "        # 1) Empezamos en |0>\n",
        "        # 2) Aplicamos H -> (|0> + |1>)/sqrt(2)\n",
        "        qc.h(0)\n",
        "\n",
        "        # 3) Agregamos fase 'phi' solo a la componente |1>\n",
        "        qc.p(phi, 0)\n",
        "\n",
        "        # 4) Aplicamos H de nuevo para ver interferencia\n",
        "        qc.h(0)\n",
        "\n",
        "        # 5) Medimos\n",
        "        qc.measure_all()\n",
        "\n",
        "        # Transpilamos y ejecutamos\n",
        "        qc_t = transpile(qc, simulator)\n",
        "        result = simulator.run(qc_t, shots=shots).result()\n",
        "        counts = result.get_counts(qc_t)\n",
        "\n",
        "        print(f\"Fase relativa phi = {phi} rad ({phi*180/np.pi:.1f}°): {counts}\")\n",
        "\n",
        "    print(\"\\nLos distintos valores de phi cambian la interferencia y, por lo tanto, \"\n",
        "          \"las probabilidades finales de medir |0> o |1>.\\n\")"
      ],
      "metadata": {
        "id": "xrZK9PzB4Zt6"
      },
      "execution_count": null,
      "outputs": []
    },
    {
      "cell_type": "code",
      "source": [
        "example_1_global_phase()"
      ],
      "metadata": {
        "colab": {
          "base_uri": "https://localhost:8080/"
        },
        "id": "O7iQTJVL4dLu",
        "outputId": "806dafdc-0315-4804-a3dc-199b314a84a0"
      },
      "execution_count": 13,
      "outputs": [
        {
          "output_type": "stream",
          "name": "stdout",
          "text": [
            "=== Ejemplo 1: Fase Global ===\n",
            "Estado de |0>: Statevector([1.+0.j, 0.+0.j],\n",
            "            dims=(2,))\n",
            "Estado de e^(i*0.7853981633974483)|0>: Statevector([0.70710678+0.70710678j, 0.        +0.j        ],\n",
            "            dims=(2,))\n",
            "Observa que la diferencia es solo una fase global.\n",
            "\n",
            "Resultados de medición para |0>: {'0': 1024}\n",
            "Resultados de medición para e^(i*0.7853981633974483)|0>: {'0': 1024}\n",
            "La distribución de medición es idéntica, evidenciando que la fase global no afecta.\n",
            "\n",
            "\n"
          ]
        }
      ]
    },
    {
      "cell_type": "code",
      "source": [
        "example_2_relative_phase()"
      ],
      "metadata": {
        "colab": {
          "base_uri": "https://localhost:8080/"
        },
        "id": "8yvY-BtC5WCq",
        "outputId": "6b9da084-a1b5-4f12-95df-2115f923673c"
      },
      "execution_count": null,
      "outputs": [
        {
          "output_type": "stream",
          "name": "stdout",
          "text": [
            "=== Ejemplo 2: Fase Relativa (+ vs -) ===\n",
            "|+> statevector: Statevector([0.70710678+0.j, 0.70710678+0.j],\n",
            "            dims=(2,))\n",
            "|-> statevector: Statevector([ 0.70710678+0.j, -0.70710678+0.j],\n",
            "            dims=(2,))\n",
            "\n",
            "Medición en la base Z (estados |0>, |1>):\n",
            "Counts |+>: {'0': 497, '1': 527}\n",
            "Counts |->: {'0': 490, '1': 534}\n",
            "\n",
            "Medición en la base X (estados |+>, |->):\n",
            "Counts |+> (en base X): {'0': 1024}\n",
            "Counts |-> (en base X): {'1': 1024}\n",
            "\n",
            "La fase relativa (+ vs -) no influye en la medición Z (ambos 50-50), pero sí cambia la medición en la base X.\n",
            "\n",
            "\n"
          ]
        }
      ]
    },
    {
      "cell_type": "code",
      "source": [
        "example_3_interference()"
      ],
      "metadata": {
        "colab": {
          "base_uri": "https://localhost:8080/"
        },
        "id": "1Ci2a6SN5e9n",
        "outputId": "f8422ead-b83e-44cb-b1a3-f7efd174e05a"
      },
      "execution_count": null,
      "outputs": [
        {
          "output_type": "stream",
          "name": "stdout",
          "text": [
            "=== Ejemplo 3: Interferencia por Fase Relativa ===\n",
            "Fase relativa phi = 0 rad (0.0°): {'0': 1024}\n",
            "Fase relativa phi = 1.5707963267948966 rad (90.0°): {'1': 492, '0': 532}\n",
            "Fase relativa phi = 3.141592653589793 rad (180.0°): {'1': 1024}\n",
            "Fase relativa phi = 4.71238898038469 rad (270.0°): {'0': 503, '1': 521}\n",
            "\n",
            "Los distintos valores de phi cambian la interferencia y, por lo tanto, las probabilidades finales de medir |0> o |1>.\n",
            "\n"
          ]
        }
      ]
    }
  ]
}