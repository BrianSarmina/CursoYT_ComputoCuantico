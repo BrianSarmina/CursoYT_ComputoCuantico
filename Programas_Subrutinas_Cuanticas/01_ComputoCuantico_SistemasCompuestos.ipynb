{
  "nbformat": 4,
  "nbformat_minor": 0,
  "metadata": {
    "colab": {
      "provenance": []
    },
    "kernelspec": {
      "name": "python3",
      "display_name": "Python 3"
    },
    "language_info": {
      "name": "python"
    }
  },
  "cells": [
    {
      "cell_type": "code",
      "execution_count": null,
      "metadata": {
        "id": "N2IYor2htMGm"
      },
      "outputs": [],
      "source": [
        "pip install qiskit"
      ]
    },
    {
      "cell_type": "code",
      "source": [
        "pip install qiskit_aer"
      ],
      "metadata": {
        "id": "DIBi9lii_m8I"
      },
      "execution_count": null,
      "outputs": []
    },
    {
      "cell_type": "markdown",
      "source": [
        "## Sistemas compuestos\n",
        "\n",
        "Ejemplos básicos de sistemas compuestos (2 qubits) en Qiskit.\n",
        "1. Estado separable sencillo.\n",
        "2. Estado separable en superposición.\n",
        "3. Estado entrelazado (Bell State).\n"
      ],
      "metadata": {
        "id": "g2OiLbkx_2IQ"
      }
    },
    {
      "cell_type": "code",
      "source": [
        "import numpy as np\n",
        "from qiskit import QuantumCircuit, transpile\n",
        "from qiskit_aer import AerSimulator\n",
        "from qiskit.quantum_info import Statevector\n",
        "from qiskit.visualization import plot_histogram"
      ],
      "metadata": {
        "id": "T83TIjna_p1g"
      },
      "execution_count": null,
      "outputs": []
    },
    {
      "cell_type": "code",
      "source": [
        "def example_1_separable_state():\n",
        "    \"\"\"\n",
        "    Ejemplo 1: Estado separable sencillo de 2 qubits.\n",
        "    - Comenzamos en |00>.\n",
        "    - Aplicamos X en el segundo qubit -> estado |01>.\n",
        "    - Verificamos el estadovector y la medición.\n",
        "    \"\"\"\n",
        "    print(\"=== Ejemplo 1: Estado separable sencillo ===\")\n",
        "\n",
        "    # Creamos un circuito de 2 qubits\n",
        "    qc = QuantumCircuit(2)\n",
        "\n",
        "    # Aplicamos X al qubit 1 (recordar que Qiskit indexa 0 al primero y 1 al segundo)\n",
        "    qc.x(1)\n",
        "\n",
        "    # Obtenemos el estado final sin medición usando 'Statevector'\n",
        "    sv_final = Statevector.from_label(\"00\").evolve(qc)\n",
        "    print(\"Vector de estado final (antes de medir):\", sv_final)\n",
        "\n",
        "    # Para obtener las probabilidades de medición en la base computacional\n",
        "    qc_m = qc.copy()\n",
        "    qc_m.measure_all()\n",
        "\n",
        "    # Imprimir circuito cuantico en pantalla.\n",
        "    print(\"\\nCircuito cuantico:\")\n",
        "    print(qc_m.draw())\n",
        "\n",
        "    simulator = AerSimulator()\n",
        "    qc_m_t = transpile(qc_m, simulator)\n",
        "    shots = 1024\n",
        "    result = simulator.run(qc_m_t, shots=shots).result()\n",
        "    counts = result.get_counts(qc_m_t)\n",
        "\n",
        "    print(\"Resultados de medición (counts):\", counts)\n",
        "    print(\"Observamos que, con alta probabilidad, obtenemos '01' (estado separable).\\n\")\n",
        "\n",
        "    counts_1 = counts\n",
        "\n",
        "    return counts_1"
      ],
      "metadata": {
        "id": "Us8jH6DY_-Tb"
      },
      "execution_count": null,
      "outputs": []
    },
    {
      "cell_type": "code",
      "source": [
        "def example_2_superposition_state():\n",
        "    \"\"\"\n",
        "    Ejemplo 2: Dos qubits en un estado separable, pero cada uno en superposición.\n",
        "    - Primer qubit: H -> (|0> + |1>) / sqrt(2)\n",
        "    - Segundo qubit: H -> (|0> + |1>) / sqrt(2)\n",
        "    - El estado global es (|0> + |1>) (|0> + |1>) / 2 = (|00> + |01> + |10> + |11>)/2\n",
        "      que está separable, aunque con 4 componentes no entrelazadas.\n",
        "    \"\"\"\n",
        "    print(\"=== Ejemplo 2: Dos qubits en superposición separable ===\")\n",
        "\n",
        "    qc = QuantumCircuit(2)\n",
        "    qc.h(0)  # Hadamard en qubit 0\n",
        "    qc.h(1)  # Hadamard en qubit 1\n",
        "\n",
        "    # Obtenemos el estado final sin medición\n",
        "    sv_final = Statevector.from_label(\"00\").evolve(qc)\n",
        "    print(\"Vector de estado final (antes de medir):\", sv_final)\n",
        "\n",
        "    # Medimos para ver la distribución de probabilidad (debería ser uniforme)\n",
        "    qc_m = qc.copy()\n",
        "    qc_m.measure_all()\n",
        "\n",
        "    # Imprimir circuito cuantico en pantalla.\n",
        "    print(\"\\nCircuito cuantico:\")\n",
        "    print(qc_m.draw())\n",
        "\n",
        "    simulator = AerSimulator()\n",
        "    qc_m_t = transpile(qc_m, simulator)\n",
        "    shots = 1024\n",
        "    result = simulator.run(qc_m_t, shots=shots).result()\n",
        "    counts = result.get_counts(qc_m_t)\n",
        "\n",
        "    print(\"Resultados de medición (counts):\", counts)\n",
        "    print(\"Se espera que '00', '01', '10' y '11' aparezcan de manera casi uniforme.\\n\")\n",
        "\n",
        "    counts_2 = counts\n",
        "\n",
        "    return counts_2"
      ],
      "metadata": {
        "id": "p7HCDJJTAO-s"
      },
      "execution_count": null,
      "outputs": []
    },
    {
      "cell_type": "code",
      "source": [
        "def example_3_entangled_state():\n",
        "    \"\"\"\n",
        "    Ejemplo 3: Estado entrelazado (Bell State).\n",
        "    - Crearemos el estado (|00> + |11>) / sqrt(2) usando:\n",
        "      1) H en el qubit 0 -> (|0> + |1>)/sqrt(2) en el qubit 0, qubit 1 sigue en |0>.\n",
        "      2) CNOT( qubit0 -> qubit1 ) -> Se consigue el estado de Bell: (|00> + |11>)/sqrt(2).\n",
        "    - Este estado NO es separable (está entrelazado).\n",
        "    \"\"\"\n",
        "    print(\"=== Ejemplo 3: Estado entrelazado (Bell State) ===\")\n",
        "\n",
        "    qc = QuantumCircuit(2)\n",
        "    qc.h(0)        # H en qubit 0\n",
        "    qc.cx(0, 1)    # CNOT: control=0, target=1\n",
        "\n",
        "    # Obtenemos el estado final sin medición\n",
        "    sv_final = Statevector.from_label(\"00\").evolve(qc)\n",
        "    print(\"Vector de estado final (antes de medir):\", sv_final)\n",
        "\n",
        "    # Medición para ver que sale 00 o 11 con igual probabilidad\n",
        "    qc_m = qc.copy()\n",
        "    qc_m.measure_all()\n",
        "\n",
        "    # Imprimir circuito cuantico en pantalla.\n",
        "    print(\"\\nCircuito cuantico:\")\n",
        "    print(qc_m.draw())\n",
        "\n",
        "    simulator = AerSimulator()\n",
        "    qc_m_t = transpile(qc_m, simulator)\n",
        "    shots = 1024\n",
        "    result = simulator.run(qc_m_t, shots=shots).result()\n",
        "    counts = result.get_counts(qc_m_t)\n",
        "\n",
        "    print(\"Resultados de medición (counts):\", counts)\n",
        "    print(\"El estado está entrelazado, por lo que obtendremos (caso ideal): '00' y '11'.\\n\")\n",
        "\n",
        "    counts_3 = counts\n",
        "\n",
        "    return counts_3"
      ],
      "metadata": {
        "id": "p6TJsOxGAXjx"
      },
      "execution_count": null,
      "outputs": []
    },
    {
      "cell_type": "code",
      "source": [
        "counts_1 = example_1_separable_state()\n",
        "# Imprimir histograma de resultados\n",
        "plot_histogram(counts_1)"
      ],
      "metadata": {
        "colab": {
          "base_uri": "https://localhost:8080/",
          "height": 709
        },
        "id": "JZbvUn57AdtK",
        "outputId": "e053b2bd-1576-4820-870d-79feb43686ac"
      },
      "execution_count": null,
      "outputs": [
        {
          "output_type": "stream",
          "name": "stdout",
          "text": [
            "=== Ejemplo 1: Estado separable sencillo ===\n",
            "Vector de estado final (antes de medir): Statevector([0.+0.j, 0.+0.j, 1.+0.j, 0.+0.j],\n",
            "            dims=(2, 2))\n",
            "\n",
            "Circuito cuantico:\n",
            "              ░ ┌─┐   \n",
            "   q_0: ──────░─┤M├───\n",
            "        ┌───┐ ░ └╥┘┌─┐\n",
            "   q_1: ┤ X ├─░──╫─┤M├\n",
            "        └───┘ ░  ║ └╥┘\n",
            "meas: 2/═════════╩══╩═\n",
            "                 0  1 \n",
            "Resultados de medición (counts): {'10': 1024}\n",
            "Observamos que, con alta probabilidad, obtenemos '01' (estado separable).\n",
            "\n"
          ]
        },
        {
          "output_type": "execute_result",
          "data": {
            "text/plain": [
              "<Figure size 640x480 with 1 Axes>"
            ],
            "image/png": "[encoded data removed]"
          },
          "metadata": {},
          "execution_count": 20
        }
      ]
    },
    {
      "cell_type": "code",
      "source": [
        "counts_2 = example_2_superposition_state()\n",
        "# Imprimir histograma de resultados\n",
        "plot_histogram(counts_2)"
      ],
      "metadata": {
        "colab": {
          "base_uri": "https://localhost:8080/",
          "height": 709
        },
        "id": "wQP8QgJ-AeSz",
        "outputId": "68e3c0c4-c783-4edf-b1c9-766692a04052"
      },
      "execution_count": null,
      "outputs": [
        {
          "output_type": "stream",
          "name": "stdout",
          "text": [
            "=== Ejemplo 2: Dos qubits en superposición separable ===\n",
            "Vector de estado final (antes de medir): Statevector([0.5+0.j, 0.5+0.j, 0.5+0.j, 0.5+0.j],\n",
            "            dims=(2, 2))\n",
            "\n",
            "Circuito cuantico:\n",
            "        ┌───┐ ░ ┌─┐   \n",
            "   q_0: ┤ H ├─░─┤M├───\n",
            "        ├───┤ ░ └╥┘┌─┐\n",
            "   q_1: ┤ H ├─░──╫─┤M├\n",
            "        └───┘ ░  ║ └╥┘\n",
            "meas: 2/═════════╩══╩═\n",
            "                 0  1 \n",
            "Resultados de medición (counts): {'01': 257, '00': 261, '10': 254, '11': 252}\n",
            "Se espera que '00', '01', '10' y '11' aparezcan de manera casi uniforme.\n",
            "\n"
          ]
        },
        {
          "output_type": "execute_result",
          "data": {
            "text/plain": [
              "<Figure size 640x480 with 1 Axes>"
            ],
            "image/png": "[encoded data removed]"
          },
          "metadata": {},
          "execution_count": 21
        }
      ]
    },
    {
      "cell_type": "code",
      "source": [
        "counts_3 = example_3_entangled_state()\n",
        "# Imprimir histograma de resultados\n",
        "plot_histogram(counts_3)"
      ],
      "metadata": {
        "colab": {
          "base_uri": "https://localhost:8080/",
          "height": 727
        },
        "id": "-trjjBeFAexl",
        "outputId": "46ff44d0-a047-41e5-f5ca-bd41d3dab87b"
      },
      "execution_count": null,
      "outputs": [
        {
          "output_type": "stream",
          "name": "stdout",
          "text": [
            "=== Ejemplo 3: Estado entrelazado (Bell State) ===\n",
            "Vector de estado final (antes de medir): Statevector([0.70710678+0.j, 0.        +0.j, 0.        +0.j,\n",
            "             0.70710678+0.j],\n",
            "            dims=(2, 2))\n",
            "\n",
            "Circuito cuantico:\n",
            "        ┌───┐      ░ ┌─┐   \n",
            "   q_0: ┤ H ├──■───░─┤M├───\n",
            "        └───┘┌─┴─┐ ░ └╥┘┌─┐\n",
            "   q_1: ─────┤ X ├─░──╫─┤M├\n",
            "             └───┘ ░  ║ └╥┘\n",
            "meas: 2/══════════════╩══╩═\n",
            "                      0  1 \n",
            "Resultados de medición (counts): {'11': 519, '00': 505}\n",
            "El estado está entrelazado, por lo que obtendremos (caso ideal): '00' y '11'.\n",
            "\n"
          ]
        },
        {
          "output_type": "execute_result",
          "data": {
            "text/plain": [
              "<Figure size 640x480 with 1 Axes>"
            ],
            "image/png": "[encoded data removed]"
          },
          "metadata": {},
          "execution_count": 24
        }
      ]
    }
  ]
}